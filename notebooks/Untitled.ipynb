{
 "cells": [
  {
   "cell_type": "code",
   "execution_count": 1,
   "metadata": {
    "collapsed": true
   },
   "outputs": [],
   "source": [
    "import pandas as pd\n",
    "import numpy as np\n",
    "from tqdm import tqdm, tqdm_pandas\n",
    "from sklearn.linear_model import LogisticRegression\n",
    "import lightgbm as lgb\n",
    "import xgboost as xgb\n",
    "from sklearn.preprocessing import StandardScaler\n",
    "\n",
    "from copy import copy\n",
    "import os\n",
    "import sys\n",
    "sys.path.insert(0, '../code/venv')\n",
    "from qa_system import QuestionAnswerSystem\n",
    "from utils import Utility"
   ]
  },
  {
   "cell_type": "code",
   "execution_count": 4,
   "metadata": {},
   "outputs": [],
   "source": [
    "df = pd.read_pickle('tmp_save_me.pkl')\n",
    "train_df_idxs, test_df_idxs = Utility.train_test_split(df)"
   ]
  },
  {
   "cell_type": "code",
   "execution_count": 5,
   "metadata": {
    "collapsed": true
   },
   "outputs": [],
   "source": [
    "def tmp(data):\n",
    "    predict = np.array(list(data[\"sentence_lem\"]))[np.argsort(list(data['train_predict_proba']))[::-1]][0]\n",
    "    answer = data[data.answer_in_sentence == 1].sentence_lem.values\n",
    "    return int(predict in answer)"
   ]
  },
  {
   "cell_type": "code",
   "execution_count": 7,
   "metadata": {},
   "outputs": [
    {
     "name": "stderr",
     "output_type": "stream",
     "text": [
      "  0%|          | 0/700 [00:00<?, ?it/s]\n",
      "TqdmDeprecationWarning: Please use `tqdm.pandas(...)` instead of `tqdm_pandas(tqdm(...))`.\n",
      "701it [00:00, 1135.63it/s]                         \n",
      "  0%|          | 0/300 [00:00<?, ?it/s]\n",
      "TqdmDeprecationWarning: Please use `tqdm.pandas(...)` instead of `tqdm_pandas(tqdm(...))`.\n",
      "301it [00:00, 1119.50it/s]                        \n"
     ]
    },
    {
     "data": {
      "text/plain": [
       "{'Test': 0.96799316387032375, 'Train': 0.97098895927659212}"
      ]
     },
     "execution_count": 7,
     "metadata": {},
     "output_type": "execute_result"
    }
   ],
   "source": [
    "target = 'answer_in_sentence'\n",
    "predictors = df.columns.difference([\n",
    "    'sentence',\n",
    "    'sentence_lem',\n",
    "    'question',\n",
    "    'question_lem',\n",
    "    'answer',\n",
    "    'answer_lem',\n",
    "    \n",
    "    'question_ners',\n",
    "    'sentence_ners',\n",
    "    'question_type',\n",
    "    target\n",
    "])\n",
    "df_train = df.loc[train_df_idxs].copy()\n",
    "df_test = df.loc[test_df_idxs].copy()\n",
    "\n",
    "sc = StandardScaler()\n",
    "X_train_sc = sc.fit_transform(df_train[predictors])\n",
    "X_test_sc = sc.transform(df_test[predictors])\n",
    "\n",
    "clf = LogisticRegression()\n",
    "clf.fit(X_train_sc, df_train[target])\n",
    "\n",
    "df_train['train_predict_proba'] = clf.predict_proba(X_train_sc)[:, 1]\n",
    "df_test['test_predict_proba'] = clf.predict_proba(X_test_sc)[:, 1]\n",
    "\n",
    "tqdm_pandas(tqdm(total=df_train.index.nunique()))\n",
    "train_score = df_train.groupby('question_id').progress_apply(lambda x: Utility.get_answer_by_score(x, 'train_predict_proba')).sum()/df_train.index.nunique()\n",
    "\n",
    "tqdm_pandas(tqdm(total=df_test.index.nunique()))\n",
    "test_score = df_test.groupby('question_id').progress_apply(lambda x: Utility.get_answer_by_score(x, 'test_predict_proba')).sum()/df_test.index.nunique()\n",
    "\n",
    "scores = {'Train': train_score, 'Test': test_score}\n",
    "scores"
   ]
  },
  {
   "cell_type": "code",
   "execution_count": 8,
   "metadata": {
    "collapsed": true
   },
   "outputs": [],
   "source": [
    "df_train['answer_eq_predict'] = df_train.groupby('question_id').apply(lambda x: tmp(x))"
   ]
  },
  {
   "cell_type": "code",
   "execution_count": 9,
   "metadata": {
    "collapsed": true
   },
   "outputs": [],
   "source": [
    "df_train['max_train_predict_proba'] = df_train.groupby('question_id').apply(lambda x: x.train_predict_proba.max())"
   ]
  },
  {
   "cell_type": "code",
   "execution_count": 12,
   "metadata": {},
   "outputs": [],
   "source": [
    "t1 = df_train[(df_train.answer_eq_predict == 0) &(df_train.max_train_predict_proba == df_train.train_predict_proba)][['question', 'sentence', 'question_ners', 'sentence_ners']]"
   ]
  },
  {
   "cell_type": "code",
   "execution_count": 13,
   "metadata": {},
   "outputs": [],
   "source": [
    "t2 = df_train[(df_train.answer_in_sentence == 1) & (df_train.answer_eq_predict == 0)][['question', 'sentence', 'question_ners', 'sentence_ners']]"
   ]
  },
  {
   "cell_type": "code",
   "execution_count": 16,
   "metadata": {},
   "outputs": [],
   "source": [
    "t1.columns = ['question', 'predict', 'question_ners', 'sentence_ners']"
   ]
  },
  {
   "cell_type": "code",
   "execution_count": 18,
   "metadata": {},
   "outputs": [],
   "source": [
    "t2.columns = ['question', 'answer', 'question_ners', 'sentence_ners']"
   ]
  },
  {
   "cell_type": "code",
   "execution_count": 24,
   "metadata": {},
   "outputs": [],
   "source": [
    "t3 = pd.merge(t1[['question', 'predict']].reset_index(), t2['answer'].reset_index(), how='left', on='question_id')"
   ]
  },
  {
   "cell_type": "code",
   "execution_count": 26,
   "metadata": {},
   "outputs": [],
   "source": [
    "with open('sevochka_lulu.txt', 'w') as fout:\n",
    "    for i, v in t3.iterrows():\n",
    "        fout.write('question: {}\\n'.format(v.question))\n",
    "        fout.write('predict: {}\\n'.format(v.predict))\n",
    "        fout.write('answer: {}\\n\\n'.format(v.answer))"
   ]
  },
  {
   "cell_type": "code",
   "execution_count": null,
   "metadata": {
    "collapsed": true
   },
   "outputs": [],
   "source": []
  }
 ],
 "metadata": {
  "kernelspec": {
   "display_name": "Python 3",
   "language": "python",
   "name": "python3"
  },
  "language_info": {
   "codemirror_mode": {
    "name": "ipython",
    "version": 3
   },
   "file_extension": ".py",
   "mimetype": "text/x-python",
   "name": "python",
   "nbconvert_exporter": "python",
   "pygments_lexer": "ipython3",
   "version": "3.5.2"
  }
 },
 "nbformat": 4,
 "nbformat_minor": 2
}
