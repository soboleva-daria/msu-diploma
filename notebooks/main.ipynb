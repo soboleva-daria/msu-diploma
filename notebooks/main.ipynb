{
 "cells": [
  {
   "cell_type": "code",
   "execution_count": 1,
   "metadata": {},
   "outputs": [],
   "source": [
    "import pandas as pd\n",
    "import numpy as np\n",
    "from tqdm import tqdm, tqdm_pandas\n",
    "from sklearn.linear_model import LogisticRegression\n",
    "from sklearn.preprocessing import StandardScaler\n",
    "\n",
    "from copy import copy\n",
    "import os\n",
    "import sys\n",
    "sys.path.insert(0, '../code/venv')\n",
    "from qa_system import QuestionAnswerSystem, Question\n",
    "from utils import Utility"
   ]
  },
  {
   "cell_type": "code",
   "execution_count": 5,
   "metadata": {
    "collapsed": true
   },
   "outputs": [],
   "source": [
    "df = pd.read_csv('../data/train_task_b.csv')"
   ]
  },
  {
   "cell_type": "code",
   "execution_count": 3,
   "metadata": {},
   "outputs": [
    {
     "name": "stderr",
     "output_type": "stream",
     "text": [
      "100%|██████████| 9078/9078 [02:53<00:00, 52.25it/s]\n",
      "100%|██████████| 9078/9078 [00:27<00:00, 332.84it/s]\n"
     ]
    }
   ],
   "source": [
    "qa_system = QuestionAnswerSystem()\n",
    "qa_system.create_database(df)\n",
    "qa_system.add_database_to_index()"
   ]
  },
  {
   "cell_type": "markdown",
   "metadata": {},
   "source": [
    "## Выбираем лучший алгоритм поиска релевантного документа на подвыборке"
   ]
  },
  {
   "cell_type": "code",
   "execution_count": 3,
   "metadata": {
    "collapsed": true
   },
   "outputs": [],
   "source": [
    "df_sample = df.sample(frac=0.1, random_state=0)"
   ]
  },
  {
   "cell_type": "code",
   "execution_count": 22,
   "metadata": {},
   "outputs": [
    {
     "name": "stderr",
     "output_type": "stream",
     "text": [
      "100%|██████████| 5036/5036 [14:50<00:00,  5.66it/s]"
     ]
    },
    {
     "name": "stdout",
     "output_type": "stream",
     "text": [
      "Frequency: Accuracy: 0.664614773629865\n"
     ]
    },
    {
     "name": "stderr",
     "output_type": "stream",
     "text": [
      "\n"
     ]
    }
   ],
   "source": [
    "search_rel_question_doc_alg_str = \"Frequency\"\n",
    "qa_system = QuestionAnswerSystem(search_rel_question_doc_alg_str)\n",
    "\n",
    "accuracy = 0\n",
    "errors = {}\n",
    "for question_str, paragraph_id, question_id in tqdm(df_sample[['question', 'paragraph_id', 'question_id']].values, total=df_sample.question.nunique()):\n",
    "    question = Question(question_str)\n",
    "    #question.find_question_str_lem(question_id=question_id)\n",
    "    doc_ids = qa_system.find_rel_question_doc_ids(question=question, question_id=question_id)\n",
    "    if paragraph_id in doc_ids:\n",
    "        accuracy += 1\n",
    "    else:\n",
    "        errors[question_id] = copy(doc_ids)\n",
    "\n",
    "print('{}: Accuracy: {}'.format(search_rel_question_doc_alg_str, accuracy/df_sample.question.nunique()))"
   ]
  },
  {
   "cell_type": "markdown",
   "metadata": {},
   "source": [
    "## Для лучшего алгоритма делаем пересчет по всей коллекции"
   ]
  },
  {
   "cell_type": "code",
   "execution_count": 3,
   "metadata": {},
   "outputs": [
    {
     "name": "stderr",
     "output_type": "stream",
     "text": [
      "50364it [1:37:14,  8.63it/s]                           "
     ]
    },
    {
     "name": "stdout",
     "output_type": "stream",
     "text": [
      "BM25F: Accuracy: 0.9724588471237664\n"
     ]
    },
    {
     "name": "stderr",
     "output_type": "stream",
     "text": [
      "\n"
     ]
    }
   ],
   "source": [
    "search_rel_question_doc_alg_str = \"BM25F\"\n",
    "if not os.path.exists(search_rel_question_doc_alg_str):\n",
    "    os.mkdir(search_rel_question_doc_alg_str)\n",
    "qa_system = QuestionAnswerSystem(search_rel_question_doc_alg_str)\n",
    "\n",
    "accuracy = 0\n",
    "errors = {}\n",
    "for question_str, paragraph_id, question_id in tqdm(df[['question', 'paragraph_id', 'question_id']].values, total=df.question.nunique()):\n",
    "    question = Question(question_str)\n",
    "    #question.find_question_str_lem(question_id=question_id)\n",
    "    doc_ids = qa_system.find_rel_question_doc_ids(question=question, question_id=question_id)\n",
    "    if paragraph_id in doc_ids:\n",
    "        accuracy += 1\n",
    "    else:\n",
    "        errors[question_id] = doc_ids\n",
    "    np.save('{}/{}.npy'.format(search_rel_question_doc_alg_str, question_id), doc_ids)\n",
    "np.save('{}_interrogative_pronouns_errors.npy'.format(search_rel_question_doc_alg_str), errors)\n",
    "print('{}: Accuracy: {}'.format(search_rel_question_doc_alg_str, accuracy/df.question.nunique()))"
   ]
  },
  {
   "cell_type": "markdown",
   "metadata": {},
   "source": [
    "## Формируем датасет для обучения (этап 2)"
   ]
  },
  {
   "cell_type": "code",
   "execution_count": 2,
   "metadata": {},
   "outputs": [
    {
     "name": "stderr",
     "output_type": "stream",
     "text": [
      "100%|██████████| 50364/50364 [06:37<00:00, 126.61it/s]\n"
     ]
    }
   ],
   "source": [
    "search_rel_question_doc_alg_str = \"BM25F\"\n",
    "qa_system = QuestionAnswerSystem(search_rel_question_doc_alg_str)\n",
    "train_df = qa_system.create_train_dataset()"
   ]
  },
  {
   "cell_type": "markdown",
   "metadata": {},
   "source": [
    "## Переводим вопрос и ответ в лемматизированную форму"
   ]
  },
  {
   "cell_type": "code",
   "execution_count": 6,
   "metadata": {},
   "outputs": [
    {
     "name": "stderr",
     "output_type": "stream",
     "text": [
      "50364it [02:55, 287.45it/s]                           \n"
     ]
    }
   ],
   "source": [
    "from pymystem3 import Mystem\n",
    "stem = Mystem()\n",
    "\n",
    "answers_lem = []\n",
    "questions_lem = []\n",
    "for question_id, question_str, answer in tqdm(df[['question_id', 'question', 'answer']].values, total=df.question.nunique()):\n",
    "    question = Question(question_str)\n",
    "    question.find_question_str_lem(question_id)\n",
    "    questions_lem.append(question.question_str_lem)\n",
    "    answers_lem.append(''.join(stem.lemmatize(answer))[:-1])\n",
    "    \n",
    "df['answer_lem'] = answers_lem\n",
    "df['question_lem'] = questions_lem "
   ]
  },
  {
   "cell_type": "code",
   "execution_count": 7,
   "metadata": {
    "collapsed": true
   },
   "outputs": [],
   "source": [
    "train_df = pd.merge(train_df, df[['question_lem', 'question_id', 'answer_lem']], how='left', on='question_id')"
   ]
  },
  {
   "cell_type": "code",
   "execution_count": 8,
   "metadata": {
    "collapsed": true
   },
   "outputs": [],
   "source": [
    "train_df.to_pickle('train_df_interrogative_pronouns.pkl')"
   ]
  },
  {
   "cell_type": "markdown",
   "metadata": {},
   "source": [
    "## Фильтруем датасет по пересечению слов из вопроса и ответа"
   ]
  },
  {
   "cell_type": "code",
   "execution_count": 3,
   "metadata": {
    "collapsed": true
   },
   "outputs": [],
   "source": [
    "train_df = pd.read_pickle('train_df_interrogative_pronouns.pkl')"
   ]
  },
  {
   "cell_type": "code",
   "execution_count": 9,
   "metadata": {},
   "outputs": [
    {
     "name": "stderr",
     "output_type": "stream",
     "text": [
      "100%|██████████| 50363/50363 [3:17:33<00:00,  4.25it/s]  \n"
     ]
    }
   ],
   "source": [
    "train_df_filtered = QuestionAnswerSystem.filter_train_dataset(train_df)"
   ]
  },
  {
   "cell_type": "code",
   "execution_count": 40,
   "metadata": {
    "collapsed": true
   },
   "outputs": [],
   "source": [
    "train_df_filtered.to_pickle('train_df_interrogative_pronouns_filtered.pkl')"
   ]
  },
  {
   "cell_type": "markdown",
   "metadata": {},
   "source": [
    "## Делаем разметку для классификатора"
   ]
  },
  {
   "cell_type": "code",
   "execution_count": 41,
   "metadata": {},
   "outputs": [],
   "source": [
    "train_df_filtered = pd.read_pickle('train_df_interrogative_pronouns_filtered.pkl')"
   ]
  },
  {
   "cell_type": "code",
   "execution_count": 42,
   "metadata": {},
   "outputs": [
    {
     "name": "stderr",
     "output_type": "stream",
     "text": [
      "100%|██████████| 1506660/1506660 [02:33<00:00, 9844.05it/s]\n"
     ]
    }
   ],
   "source": [
    "train_df_filtered = QuestionAnswerSystem.create_target(train_df_filtered)"
   ]
  },
  {
   "cell_type": "code",
   "execution_count": 43,
   "metadata": {},
   "outputs": [],
   "source": [
    "train_df_filtered.to_pickle('train_df_interrogative_pronouns_with_target.pkl')"
   ]
  },
  {
   "cell_type": "markdown",
   "metadata": {},
   "source": [
    "## Сравнение моделей этапа 2"
   ]
  },
  {
   "cell_type": "code",
   "execution_count": 2,
   "metadata": {},
   "outputs": [],
   "source": [
    "df = pd.read_pickle('train_df_interrogative_pronouns_with_target.pkl')\n",
    "df = df.set_index('question_id')"
   ]
  },
  {
   "cell_type": "markdown",
   "metadata": {},
   "source": [
    "## Обучение и валидация"
   ]
  },
  {
   "cell_type": "code",
   "execution_count": 3,
   "metadata": {},
   "outputs": [],
   "source": [
    "train_df_idxs, test_df_idxs = Utility.train_test_split(df)"
   ]
  },
  {
   "cell_type": "markdown",
   "metadata": {},
   "source": [
    "### Предложение с максимальным пересечением по словам с вопросом"
   ]
  },
  {
   "cell_type": "code",
   "execution_count": 4,
   "metadata": {},
   "outputs": [],
   "source": [
    "qa_system = QuestionAnswerSystem()\n",
    "max_match_sentance = df.groupby('question_id').apply(lambda x: qa_system.get_max_match_sentence(x))\n",
    "df['max_match_sentance'] = max_match_sentance\n",
    "df['max_match_sentance_answer'] = (df.max_match_sentance == df.sentence_lem).astype(int)"
   ]
  },
  {
   "cell_type": "code",
   "execution_count": 7,
   "metadata": {},
   "outputs": [
    {
     "name": "stdout",
     "output_type": "stream",
     "text": [
      "Train:\n",
      "Precision: 0.7049888477935571\n",
      "Recall: 0.6281444958744214\n",
      "F1-score: 0.6643519442338135\n",
      "Test:\n",
      "Precision: 0.7048704936400184\n",
      "Recall: 0.6265010837092144\n",
      "F1-score: 0.6633792333457388\n"
     ]
    }
   ],
   "source": [
    "print('Train:')\n",
    "Utility.calculate_metric(df.loc[train_df_idxs].answer_in_sentence, df.loc[train_df_idxs].max_match_sentance_answer)\n",
    "\n",
    "print('Test:')\n",
    "Utility.calculate_metric(df.loc[test_df_idxs].answer_in_sentence, df.loc[test_df_idxs].max_match_sentance_answer)"
   ]
  },
  {
   "cell_type": "markdown",
   "metadata": {},
   "source": [
    "### Лог-регрессия"
   ]
  },
  {
   "cell_type": "code",
   "execution_count": 4,
   "metadata": {},
   "outputs": [
    {
     "name": "stderr",
     "output_type": "stream",
     "text": [
      "  0%|          | 0/1506660 [00:00<?, ?it/s]\n",
      "TqdmDeprecationWarning: Please use `tqdm.pandas(...)` instead of `tqdm_pandas(tqdm(...))`.\n",
      " 31%|███       | 466409/1506660 [42:10<2:07:13, 136.28it/s]"
     ]
    },
    {
     "ename": "KeyboardInterrupt",
     "evalue": "",
     "output_type": "error",
     "traceback": [
      "\u001b[0;31m---------------------------------------------------------------------------\u001b[0m",
      "\u001b[0;31mKeyboardInterrupt\u001b[0m                         Traceback (most recent call last)",
      "\u001b[0;32m<ipython-input-4-f1195c011db5>\u001b[0m in \u001b[0;36m<module>\u001b[0;34m()\u001b[0m\n\u001b[1;32m      1\u001b[0m \u001b[0mqa_system\u001b[0m \u001b[0;34m=\u001b[0m \u001b[0mQuestionAnswerSystem\u001b[0m\u001b[0;34m(\u001b[0m\u001b[0;34m)\u001b[0m\u001b[0;34m\u001b[0m\u001b[0m\n\u001b[1;32m      2\u001b[0m \u001b[0mtqdm_pandas\u001b[0m\u001b[0;34m(\u001b[0m\u001b[0mtqdm\u001b[0m\u001b[0;34m(\u001b[0m\u001b[0mtotal\u001b[0m\u001b[0;34m=\u001b[0m\u001b[0mdf\u001b[0m\u001b[0;34m.\u001b[0m\u001b[0mshape\u001b[0m\u001b[0;34m[\u001b[0m\u001b[0;36m0\u001b[0m\u001b[0;34m]\u001b[0m\u001b[0;34m)\u001b[0m\u001b[0;34m)\u001b[0m\u001b[0;34m\u001b[0m\u001b[0m\n\u001b[0;32m----> 3\u001b[0;31m \u001b[0mbase_features\u001b[0m \u001b[0;34m=\u001b[0m \u001b[0mdf\u001b[0m\u001b[0;34m.\u001b[0m\u001b[0mprogress_apply\u001b[0m\u001b[0;34m(\u001b[0m\u001b[0;32mlambda\u001b[0m \u001b[0mx\u001b[0m\u001b[0;34m:\u001b[0m \u001b[0mqa_system\u001b[0m\u001b[0;34m.\u001b[0m\u001b[0mcreate_base_features\u001b[0m\u001b[0;34m(\u001b[0m\u001b[0mx\u001b[0m\u001b[0;34m)\u001b[0m\u001b[0;34m,\u001b[0m \u001b[0maxis\u001b[0m\u001b[0;34m=\u001b[0m\u001b[0;36m1\u001b[0m\u001b[0;34m)\u001b[0m\u001b[0;34m\u001b[0m\u001b[0m\n\u001b[0m\u001b[1;32m      4\u001b[0m \u001b[0;32mfor\u001b[0m \u001b[0mf\u001b[0m \u001b[0;32min\u001b[0m \u001b[0mbase_features\u001b[0m\u001b[0;34m.\u001b[0m\u001b[0mcolumns\u001b[0m\u001b[0;34m:\u001b[0m\u001b[0;34m\u001b[0m\u001b[0m\n\u001b[1;32m      5\u001b[0m     \u001b[0mdf\u001b[0m\u001b[0;34m[\u001b[0m\u001b[0mf\u001b[0m\u001b[0;34m]\u001b[0m \u001b[0;34m=\u001b[0m \u001b[0mbase_features\u001b[0m\u001b[0;34m[\u001b[0m\u001b[0mf\u001b[0m\u001b[0;34m]\u001b[0m\u001b[0;34m\u001b[0m\u001b[0m\n",
      "\u001b[0;32m~/anaconda3/envs/icutestenv/lib/python3.5/site-packages/tqdm/_tqdm.py\u001b[0m in \u001b[0;36minner\u001b[0;34m(df, func, *args, **kwargs)\u001b[0m\n\u001b[1;32m    626\u001b[0m                 \u001b[0;31m# Apply the provided function (in *args and **kwargs)\u001b[0m\u001b[0;34m\u001b[0m\u001b[0;34m\u001b[0m\u001b[0m\n\u001b[1;32m    627\u001b[0m                 \u001b[0;31m# on the df using our wrapper (which provides bar updating)\u001b[0m\u001b[0;34m\u001b[0m\u001b[0;34m\u001b[0m\u001b[0m\n\u001b[0;32m--> 628\u001b[0;31m                 \u001b[0mresult\u001b[0m \u001b[0;34m=\u001b[0m \u001b[0mgetattr\u001b[0m\u001b[0;34m(\u001b[0m\u001b[0mdf\u001b[0m\u001b[0;34m,\u001b[0m \u001b[0mdf_function\u001b[0m\u001b[0;34m)\u001b[0m\u001b[0;34m(\u001b[0m\u001b[0mwrapper\u001b[0m\u001b[0;34m,\u001b[0m \u001b[0;34m*\u001b[0m\u001b[0margs\u001b[0m\u001b[0;34m,\u001b[0m \u001b[0;34m**\u001b[0m\u001b[0mkwargs\u001b[0m\u001b[0;34m)\u001b[0m\u001b[0;34m\u001b[0m\u001b[0m\n\u001b[0m\u001b[1;32m    629\u001b[0m \u001b[0;34m\u001b[0m\u001b[0m\n\u001b[1;32m    630\u001b[0m                 \u001b[0;31m# Close bar and return pandas calculation result\u001b[0m\u001b[0;34m\u001b[0m\u001b[0;34m\u001b[0m\u001b[0m\n",
      "\u001b[0;32m~/anaconda3/envs/icutestenv/lib/python3.5/site-packages/pandas/core/frame.py\u001b[0m in \u001b[0;36mapply\u001b[0;34m(self, func, axis, broadcast, raw, reduce, args, **kwds)\u001b[0m\n\u001b[1;32m   4852\u001b[0m                         \u001b[0mf\u001b[0m\u001b[0;34m,\u001b[0m \u001b[0maxis\u001b[0m\u001b[0;34m,\u001b[0m\u001b[0;34m\u001b[0m\u001b[0m\n\u001b[1;32m   4853\u001b[0m                         \u001b[0mreduce\u001b[0m\u001b[0;34m=\u001b[0m\u001b[0mreduce\u001b[0m\u001b[0;34m,\u001b[0m\u001b[0;34m\u001b[0m\u001b[0m\n\u001b[0;32m-> 4854\u001b[0;31m                         ignore_failures=ignore_failures)\n\u001b[0m\u001b[1;32m   4855\u001b[0m             \u001b[0;32melse\u001b[0m\u001b[0;34m:\u001b[0m\u001b[0;34m\u001b[0m\u001b[0m\n\u001b[1;32m   4856\u001b[0m                 \u001b[0;32mreturn\u001b[0m \u001b[0mself\u001b[0m\u001b[0;34m.\u001b[0m\u001b[0m_apply_broadcast\u001b[0m\u001b[0;34m(\u001b[0m\u001b[0mf\u001b[0m\u001b[0;34m,\u001b[0m \u001b[0maxis\u001b[0m\u001b[0;34m)\u001b[0m\u001b[0;34m\u001b[0m\u001b[0m\n",
      "\u001b[0;32m~/anaconda3/envs/icutestenv/lib/python3.5/site-packages/pandas/core/frame.py\u001b[0m in \u001b[0;36m_apply_standard\u001b[0;34m(self, func, axis, ignore_failures, reduce)\u001b[0m\n\u001b[1;32m   4948\u001b[0m             \u001b[0;32mtry\u001b[0m\u001b[0;34m:\u001b[0m\u001b[0;34m\u001b[0m\u001b[0m\n\u001b[1;32m   4949\u001b[0m                 \u001b[0;32mfor\u001b[0m \u001b[0mi\u001b[0m\u001b[0;34m,\u001b[0m \u001b[0mv\u001b[0m \u001b[0;32min\u001b[0m \u001b[0menumerate\u001b[0m\u001b[0;34m(\u001b[0m\u001b[0mseries_gen\u001b[0m\u001b[0;34m)\u001b[0m\u001b[0;34m:\u001b[0m\u001b[0;34m\u001b[0m\u001b[0m\n\u001b[0;32m-> 4950\u001b[0;31m                     \u001b[0mresults\u001b[0m\u001b[0;34m[\u001b[0m\u001b[0mi\u001b[0m\u001b[0;34m]\u001b[0m \u001b[0;34m=\u001b[0m \u001b[0mfunc\u001b[0m\u001b[0;34m(\u001b[0m\u001b[0mv\u001b[0m\u001b[0;34m)\u001b[0m\u001b[0;34m\u001b[0m\u001b[0m\n\u001b[0m\u001b[1;32m   4951\u001b[0m                     \u001b[0mkeys\u001b[0m\u001b[0;34m.\u001b[0m\u001b[0mappend\u001b[0m\u001b[0;34m(\u001b[0m\u001b[0mv\u001b[0m\u001b[0;34m.\u001b[0m\u001b[0mname\u001b[0m\u001b[0;34m)\u001b[0m\u001b[0;34m\u001b[0m\u001b[0m\n\u001b[1;32m   4952\u001b[0m             \u001b[0;32mexcept\u001b[0m \u001b[0mException\u001b[0m \u001b[0;32mas\u001b[0m \u001b[0me\u001b[0m\u001b[0;34m:\u001b[0m\u001b[0;34m\u001b[0m\u001b[0m\n",
      "\u001b[0;32m~/anaconda3/envs/icutestenv/lib/python3.5/site-packages/tqdm/_tqdm.py\u001b[0m in \u001b[0;36mwrapper\u001b[0;34m(*args, **kwargs)\u001b[0m\n\u001b[1;32m    622\u001b[0m                 \u001b[0;32mdef\u001b[0m \u001b[0mwrapper\u001b[0m\u001b[0;34m(\u001b[0m\u001b[0;34m*\u001b[0m\u001b[0margs\u001b[0m\u001b[0;34m,\u001b[0m \u001b[0;34m**\u001b[0m\u001b[0mkwargs\u001b[0m\u001b[0;34m)\u001b[0m\u001b[0;34m:\u001b[0m\u001b[0;34m\u001b[0m\u001b[0m\n\u001b[1;32m    623\u001b[0m                     \u001b[0mt\u001b[0m\u001b[0;34m.\u001b[0m\u001b[0mupdate\u001b[0m\u001b[0;34m(\u001b[0m\u001b[0;34m)\u001b[0m\u001b[0;34m\u001b[0m\u001b[0m\n\u001b[0;32m--> 624\u001b[0;31m                     \u001b[0;32mreturn\u001b[0m \u001b[0mfunc\u001b[0m\u001b[0;34m(\u001b[0m\u001b[0;34m*\u001b[0m\u001b[0margs\u001b[0m\u001b[0;34m,\u001b[0m \u001b[0;34m**\u001b[0m\u001b[0mkwargs\u001b[0m\u001b[0;34m)\u001b[0m\u001b[0;34m\u001b[0m\u001b[0m\n\u001b[0m\u001b[1;32m    625\u001b[0m \u001b[0;34m\u001b[0m\u001b[0m\n\u001b[1;32m    626\u001b[0m                 \u001b[0;31m# Apply the provided function (in *args and **kwargs)\u001b[0m\u001b[0;34m\u001b[0m\u001b[0;34m\u001b[0m\u001b[0m\n",
      "\u001b[0;32m<ipython-input-4-f1195c011db5>\u001b[0m in \u001b[0;36m<lambda>\u001b[0;34m(x)\u001b[0m\n\u001b[1;32m      1\u001b[0m \u001b[0mqa_system\u001b[0m \u001b[0;34m=\u001b[0m \u001b[0mQuestionAnswerSystem\u001b[0m\u001b[0;34m(\u001b[0m\u001b[0;34m)\u001b[0m\u001b[0;34m\u001b[0m\u001b[0m\n\u001b[1;32m      2\u001b[0m \u001b[0mtqdm_pandas\u001b[0m\u001b[0;34m(\u001b[0m\u001b[0mtqdm\u001b[0m\u001b[0;34m(\u001b[0m\u001b[0mtotal\u001b[0m\u001b[0;34m=\u001b[0m\u001b[0mdf\u001b[0m\u001b[0;34m.\u001b[0m\u001b[0mshape\u001b[0m\u001b[0;34m[\u001b[0m\u001b[0;36m0\u001b[0m\u001b[0;34m]\u001b[0m\u001b[0;34m)\u001b[0m\u001b[0;34m)\u001b[0m\u001b[0;34m\u001b[0m\u001b[0m\n\u001b[0;32m----> 3\u001b[0;31m \u001b[0mbase_features\u001b[0m \u001b[0;34m=\u001b[0m \u001b[0mdf\u001b[0m\u001b[0;34m.\u001b[0m\u001b[0mprogress_apply\u001b[0m\u001b[0;34m(\u001b[0m\u001b[0;32mlambda\u001b[0m \u001b[0mx\u001b[0m\u001b[0;34m:\u001b[0m \u001b[0mqa_system\u001b[0m\u001b[0;34m.\u001b[0m\u001b[0mcreate_base_features\u001b[0m\u001b[0;34m(\u001b[0m\u001b[0mx\u001b[0m\u001b[0;34m)\u001b[0m\u001b[0;34m,\u001b[0m \u001b[0maxis\u001b[0m\u001b[0;34m=\u001b[0m\u001b[0;36m1\u001b[0m\u001b[0;34m)\u001b[0m\u001b[0;34m\u001b[0m\u001b[0m\n\u001b[0m\u001b[1;32m      4\u001b[0m \u001b[0;32mfor\u001b[0m \u001b[0mf\u001b[0m \u001b[0;32min\u001b[0m \u001b[0mbase_features\u001b[0m\u001b[0;34m.\u001b[0m\u001b[0mcolumns\u001b[0m\u001b[0;34m:\u001b[0m\u001b[0;34m\u001b[0m\u001b[0m\n\u001b[1;32m      5\u001b[0m     \u001b[0mdf\u001b[0m\u001b[0;34m[\u001b[0m\u001b[0mf\u001b[0m\u001b[0;34m]\u001b[0m \u001b[0;34m=\u001b[0m \u001b[0mbase_features\u001b[0m\u001b[0;34m[\u001b[0m\u001b[0mf\u001b[0m\u001b[0;34m]\u001b[0m\u001b[0;34m\u001b[0m\u001b[0m\n",
      "\u001b[0;32m~/diplom_2018/diplom/code/venv/qa_system.py\u001b[0m in \u001b[0;36mcreate_base_features\u001b[0;34m(df)\u001b[0m\n\u001b[1;32m    198\u001b[0m             \u001b[0mres\u001b[0m\u001b[0;34m[\u001b[0m\u001b[0;34m'{}_{}_fuzz_ratio'\u001b[0m\u001b[0;34m.\u001b[0m\u001b[0mformat\u001b[0m\u001b[0;34m(\u001b[0m\u001b[0mi\u001b[0m\u001b[0;34m,\u001b[0m \u001b[0mj\u001b[0m\u001b[0;34m)\u001b[0m\u001b[0;34m]\u001b[0m \u001b[0;34m=\u001b[0m \u001b[0mfuzz\u001b[0m\u001b[0;34m.\u001b[0m\u001b[0mratio\u001b[0m\u001b[0;34m(\u001b[0m\u001b[0mfeatures\u001b[0m\u001b[0;34m[\u001b[0m\u001b[0mi\u001b[0m\u001b[0;34m]\u001b[0m\u001b[0;34m,\u001b[0m \u001b[0mfeatures\u001b[0m\u001b[0;34m[\u001b[0m\u001b[0mj\u001b[0m\u001b[0;34m]\u001b[0m\u001b[0;34m)\u001b[0m\u001b[0;34m\u001b[0m\u001b[0m\n\u001b[1;32m    199\u001b[0m             \u001b[0mres\u001b[0m\u001b[0;34m[\u001b[0m\u001b[0;34m'{}_{}_fuzz_partial_ratio'\u001b[0m\u001b[0;34m.\u001b[0m\u001b[0mformat\u001b[0m\u001b[0;34m(\u001b[0m\u001b[0mi\u001b[0m\u001b[0;34m,\u001b[0m \u001b[0mj\u001b[0m\u001b[0;34m)\u001b[0m\u001b[0;34m]\u001b[0m \u001b[0;34m=\u001b[0m \u001b[0mfuzz\u001b[0m\u001b[0;34m.\u001b[0m\u001b[0mpartial_ratio\u001b[0m\u001b[0;34m(\u001b[0m\u001b[0mfeatures\u001b[0m\u001b[0;34m[\u001b[0m\u001b[0mi\u001b[0m\u001b[0;34m]\u001b[0m\u001b[0;34m,\u001b[0m \u001b[0mfeatures\u001b[0m\u001b[0;34m[\u001b[0m\u001b[0mj\u001b[0m\u001b[0;34m]\u001b[0m\u001b[0;34m)\u001b[0m\u001b[0;34m\u001b[0m\u001b[0m\n\u001b[0;32m--> 200\u001b[0;31m             \u001b[0mres\u001b[0m\u001b[0;34m[\u001b[0m\u001b[0;34m'{}_{}_fuzz_token_sort_ratio'\u001b[0m\u001b[0;34m.\u001b[0m\u001b[0mformat\u001b[0m\u001b[0;34m(\u001b[0m\u001b[0mi\u001b[0m\u001b[0;34m,\u001b[0m \u001b[0mj\u001b[0m\u001b[0;34m)\u001b[0m\u001b[0;34m]\u001b[0m \u001b[0;34m=\u001b[0m \u001b[0mfuzz\u001b[0m\u001b[0;34m.\u001b[0m\u001b[0mtoken_sort_ratio\u001b[0m\u001b[0;34m(\u001b[0m\u001b[0mfeatures\u001b[0m\u001b[0;34m[\u001b[0m\u001b[0mi\u001b[0m\u001b[0;34m]\u001b[0m\u001b[0;34m,\u001b[0m \u001b[0mfeatures\u001b[0m\u001b[0;34m[\u001b[0m\u001b[0mj\u001b[0m\u001b[0;34m]\u001b[0m\u001b[0;34m)\u001b[0m\u001b[0;34m\u001b[0m\u001b[0m\n\u001b[0m\u001b[1;32m    201\u001b[0m             \u001b[0mres\u001b[0m\u001b[0;34m[\u001b[0m\u001b[0;34m'{}_{}_fuzz_token_set_ratio'\u001b[0m\u001b[0;34m.\u001b[0m\u001b[0mformat\u001b[0m\u001b[0;34m(\u001b[0m\u001b[0mi\u001b[0m\u001b[0;34m,\u001b[0m \u001b[0mj\u001b[0m\u001b[0;34m)\u001b[0m\u001b[0;34m]\u001b[0m \u001b[0;34m=\u001b[0m \u001b[0mfuzz\u001b[0m\u001b[0;34m.\u001b[0m\u001b[0mtoken_set_ratio\u001b[0m\u001b[0;34m(\u001b[0m\u001b[0mfeatures\u001b[0m\u001b[0;34m[\u001b[0m\u001b[0mi\u001b[0m\u001b[0;34m]\u001b[0m\u001b[0;34m,\u001b[0m \u001b[0mfeatures\u001b[0m\u001b[0;34m[\u001b[0m\u001b[0mj\u001b[0m\u001b[0;34m]\u001b[0m\u001b[0;34m)\u001b[0m\u001b[0;34m\u001b[0m\u001b[0m\n\u001b[1;32m    202\u001b[0m             \u001b[0mres\u001b[0m\u001b[0;34m[\u001b[0m\u001b[0;34m'{}_{}_jaccard_sim'\u001b[0m\u001b[0;34m.\u001b[0m\u001b[0mformat\u001b[0m\u001b[0;34m(\u001b[0m\u001b[0mi\u001b[0m\u001b[0;34m,\u001b[0m \u001b[0mj\u001b[0m\u001b[0;34m)\u001b[0m\u001b[0;34m]\u001b[0m \u001b[0;34m=\u001b[0m \u001b[0mlen\u001b[0m\u001b[0;34m(\u001b[0m\u001b[0mfeatures\u001b[0m\u001b[0;34m[\u001b[0m\u001b[0mi\u001b[0m\u001b[0;34m]\u001b[0m \u001b[0;34m&\u001b[0m \u001b[0mfeatures\u001b[0m\u001b[0;34m[\u001b[0m\u001b[0mj\u001b[0m\u001b[0;34m]\u001b[0m\u001b[0;34m)\u001b[0m \u001b[0;34m/\u001b[0m \u001b[0mlen\u001b[0m\u001b[0;34m(\u001b[0m\u001b[0mfeatures\u001b[0m\u001b[0;34m[\u001b[0m\u001b[0mi\u001b[0m\u001b[0;34m]\u001b[0m \u001b[0;34m|\u001b[0m \u001b[0mfeatures\u001b[0m\u001b[0;34m[\u001b[0m\u001b[0mj\u001b[0m\u001b[0;34m]\u001b[0m\u001b[0;34m)\u001b[0m\u001b[0;34m\u001b[0m\u001b[0m\n",
      "\u001b[0;32m~/anaconda3/envs/icutestenv/lib/python3.5/site-packages/fuzzywuzzy/fuzz.py\u001b[0m in \u001b[0;36mtoken_sort_ratio\u001b[0;34m(s1, s2, force_ascii, full_process)\u001b[0m\n\u001b[1;32m    125\u001b[0m     \u001b[0mbut\u001b[0m \u001b[0msorting\u001b[0m \u001b[0mthe\u001b[0m \u001b[0mtoken\u001b[0m \u001b[0mbefore\u001b[0m \u001b[0mcomparing\u001b[0m\u001b[0;34m.\u001b[0m\u001b[0;34m\u001b[0m\u001b[0m\n\u001b[1;32m    126\u001b[0m     \"\"\"\n\u001b[0;32m--> 127\u001b[0;31m     \u001b[0;32mreturn\u001b[0m \u001b[0m_token_sort\u001b[0m\u001b[0;34m(\u001b[0m\u001b[0ms1\u001b[0m\u001b[0;34m,\u001b[0m \u001b[0ms2\u001b[0m\u001b[0;34m,\u001b[0m \u001b[0mpartial\u001b[0m\u001b[0;34m=\u001b[0m\u001b[0;32mFalse\u001b[0m\u001b[0;34m,\u001b[0m \u001b[0mforce_ascii\u001b[0m\u001b[0;34m=\u001b[0m\u001b[0mforce_ascii\u001b[0m\u001b[0;34m,\u001b[0m \u001b[0mfull_process\u001b[0m\u001b[0;34m=\u001b[0m\u001b[0mfull_process\u001b[0m\u001b[0;34m)\u001b[0m\u001b[0;34m\u001b[0m\u001b[0m\n\u001b[0m\u001b[1;32m    128\u001b[0m \u001b[0;34m\u001b[0m\u001b[0m\n\u001b[1;32m    129\u001b[0m \u001b[0;34m\u001b[0m\u001b[0m\n",
      "\u001b[0;32m~/anaconda3/envs/icutestenv/lib/python3.5/site-packages/fuzzywuzzy/utils.py\u001b[0m in \u001b[0;36mdecorator\u001b[0;34m(*args, **kwargs)\u001b[0m\n\u001b[1;32m     27\u001b[0m         \u001b[0;32mif\u001b[0m \u001b[0margs\u001b[0m\u001b[0;34m[\u001b[0m\u001b[0;36m0\u001b[0m\u001b[0;34m]\u001b[0m \u001b[0;32mis\u001b[0m \u001b[0;32mNone\u001b[0m \u001b[0;32mor\u001b[0m \u001b[0margs\u001b[0m\u001b[0;34m[\u001b[0m\u001b[0;36m1\u001b[0m\u001b[0;34m]\u001b[0m \u001b[0;32mis\u001b[0m \u001b[0;32mNone\u001b[0m\u001b[0;34m:\u001b[0m\u001b[0;34m\u001b[0m\u001b[0m\n\u001b[1;32m     28\u001b[0m             \u001b[0;32mreturn\u001b[0m \u001b[0;36m0\u001b[0m\u001b[0;34m\u001b[0m\u001b[0m\n\u001b[0;32m---> 29\u001b[0;31m         \u001b[0;32mreturn\u001b[0m \u001b[0mfunc\u001b[0m\u001b[0;34m(\u001b[0m\u001b[0;34m*\u001b[0m\u001b[0margs\u001b[0m\u001b[0;34m,\u001b[0m \u001b[0;34m**\u001b[0m\u001b[0mkwargs\u001b[0m\u001b[0;34m)\u001b[0m\u001b[0;34m\u001b[0m\u001b[0m\n\u001b[0m\u001b[1;32m     30\u001b[0m     \u001b[0;32mreturn\u001b[0m \u001b[0mdecorator\u001b[0m\u001b[0;34m\u001b[0m\u001b[0m\n\u001b[1;32m     31\u001b[0m \u001b[0;34m\u001b[0m\u001b[0m\n",
      "\u001b[0;32m~/anaconda3/envs/icutestenv/lib/python3.5/site-packages/fuzzywuzzy/fuzz.py\u001b[0m in \u001b[0;36m_token_sort\u001b[0;34m(s1, s2, partial, force_ascii, full_process)\u001b[0m\n\u001b[1;32m    112\u001b[0m \u001b[0;34m@\u001b[0m\u001b[0mutils\u001b[0m\u001b[0;34m.\u001b[0m\u001b[0mcheck_for_none\u001b[0m\u001b[0;34m\u001b[0m\u001b[0m\n\u001b[1;32m    113\u001b[0m \u001b[0;32mdef\u001b[0m \u001b[0m_token_sort\u001b[0m\u001b[0;34m(\u001b[0m\u001b[0ms1\u001b[0m\u001b[0;34m,\u001b[0m \u001b[0ms2\u001b[0m\u001b[0;34m,\u001b[0m \u001b[0mpartial\u001b[0m\u001b[0;34m=\u001b[0m\u001b[0;32mTrue\u001b[0m\u001b[0;34m,\u001b[0m \u001b[0mforce_ascii\u001b[0m\u001b[0;34m=\u001b[0m\u001b[0;32mTrue\u001b[0m\u001b[0;34m,\u001b[0m \u001b[0mfull_process\u001b[0m\u001b[0;34m=\u001b[0m\u001b[0;32mTrue\u001b[0m\u001b[0;34m)\u001b[0m\u001b[0;34m:\u001b[0m\u001b[0;34m\u001b[0m\u001b[0m\n\u001b[0;32m--> 114\u001b[0;31m     \u001b[0msorted1\u001b[0m \u001b[0;34m=\u001b[0m \u001b[0m_process_and_sort\u001b[0m\u001b[0;34m(\u001b[0m\u001b[0ms1\u001b[0m\u001b[0;34m,\u001b[0m \u001b[0mforce_ascii\u001b[0m\u001b[0;34m,\u001b[0m \u001b[0mfull_process\u001b[0m\u001b[0;34m=\u001b[0m\u001b[0mfull_process\u001b[0m\u001b[0;34m)\u001b[0m\u001b[0;34m\u001b[0m\u001b[0m\n\u001b[0m\u001b[1;32m    115\u001b[0m     \u001b[0msorted2\u001b[0m \u001b[0;34m=\u001b[0m \u001b[0m_process_and_sort\u001b[0m\u001b[0;34m(\u001b[0m\u001b[0ms2\u001b[0m\u001b[0;34m,\u001b[0m \u001b[0mforce_ascii\u001b[0m\u001b[0;34m,\u001b[0m \u001b[0mfull_process\u001b[0m\u001b[0;34m=\u001b[0m\u001b[0mfull_process\u001b[0m\u001b[0;34m)\u001b[0m\u001b[0;34m\u001b[0m\u001b[0m\n\u001b[1;32m    116\u001b[0m \u001b[0;34m\u001b[0m\u001b[0m\n",
      "\u001b[0;32m~/anaconda3/envs/icutestenv/lib/python3.5/site-packages/fuzzywuzzy/fuzz.py\u001b[0m in \u001b[0;36m_process_and_sort\u001b[0;34m(s, force_ascii, full_process)\u001b[0m\n\u001b[1;32m     98\u001b[0m     \u001b[0;34m\"\"\"Return a cleaned string with token sorted.\"\"\"\u001b[0m\u001b[0;34m\u001b[0m\u001b[0m\n\u001b[1;32m     99\u001b[0m     \u001b[0;31m# pull tokens\u001b[0m\u001b[0;34m\u001b[0m\u001b[0;34m\u001b[0m\u001b[0m\n\u001b[0;32m--> 100\u001b[0;31m     \u001b[0mts\u001b[0m \u001b[0;34m=\u001b[0m \u001b[0mutils\u001b[0m\u001b[0;34m.\u001b[0m\u001b[0mfull_process\u001b[0m\u001b[0;34m(\u001b[0m\u001b[0ms\u001b[0m\u001b[0;34m,\u001b[0m \u001b[0mforce_ascii\u001b[0m\u001b[0;34m=\u001b[0m\u001b[0mforce_ascii\u001b[0m\u001b[0;34m)\u001b[0m \u001b[0;32mif\u001b[0m \u001b[0mfull_process\u001b[0m \u001b[0;32melse\u001b[0m \u001b[0ms\u001b[0m\u001b[0;34m\u001b[0m\u001b[0m\n\u001b[0m\u001b[1;32m    101\u001b[0m     \u001b[0mtokens\u001b[0m \u001b[0;34m=\u001b[0m \u001b[0mts\u001b[0m\u001b[0;34m.\u001b[0m\u001b[0msplit\u001b[0m\u001b[0;34m(\u001b[0m\u001b[0;34m)\u001b[0m\u001b[0;34m\u001b[0m\u001b[0m\n\u001b[1;32m    102\u001b[0m \u001b[0;34m\u001b[0m\u001b[0m\n",
      "\u001b[0;32m~/anaconda3/envs/icutestenv/lib/python3.5/site-packages/fuzzywuzzy/utils.py\u001b[0m in \u001b[0;36mfull_process\u001b[0;34m(s, force_ascii)\u001b[0m\n\u001b[1;32m     85\u001b[0m \u001b[0;34m\u001b[0m\u001b[0m\n\u001b[1;32m     86\u001b[0m     \u001b[0;32mif\u001b[0m \u001b[0mforce_ascii\u001b[0m\u001b[0;34m:\u001b[0m\u001b[0;34m\u001b[0m\u001b[0m\n\u001b[0;32m---> 87\u001b[0;31m         \u001b[0ms\u001b[0m \u001b[0;34m=\u001b[0m \u001b[0masciidammit\u001b[0m\u001b[0;34m(\u001b[0m\u001b[0ms\u001b[0m\u001b[0;34m)\u001b[0m\u001b[0;34m\u001b[0m\u001b[0m\n\u001b[0m\u001b[1;32m     88\u001b[0m     \u001b[0;31m# Keep only Letters and Numbers (see Unicode docs).\u001b[0m\u001b[0;34m\u001b[0m\u001b[0;34m\u001b[0m\u001b[0m\n\u001b[1;32m     89\u001b[0m     \u001b[0mstring_out\u001b[0m \u001b[0;34m=\u001b[0m \u001b[0mStringProcessor\u001b[0m\u001b[0;34m.\u001b[0m\u001b[0mreplace_non_letters_non_numbers_with_whitespace\u001b[0m\u001b[0;34m(\u001b[0m\u001b[0ms\u001b[0m\u001b[0;34m)\u001b[0m\u001b[0;34m\u001b[0m\u001b[0m\n",
      "\u001b[0;32m~/anaconda3/envs/icutestenv/lib/python3.5/site-packages/fuzzywuzzy/utils.py\u001b[0m in \u001b[0;36masciidammit\u001b[0;34m(s)\u001b[0m\n\u001b[1;32m     59\u001b[0m         \u001b[0;32mreturn\u001b[0m \u001b[0masciionly\u001b[0m\u001b[0;34m(\u001b[0m\u001b[0ms\u001b[0m\u001b[0;34m.\u001b[0m\u001b[0mencode\u001b[0m\u001b[0;34m(\u001b[0m\u001b[0;34m'ascii'\u001b[0m\u001b[0;34m,\u001b[0m \u001b[0;34m'ignore'\u001b[0m\u001b[0;34m)\u001b[0m\u001b[0;34m)\u001b[0m\u001b[0;34m\u001b[0m\u001b[0m\n\u001b[1;32m     60\u001b[0m     \u001b[0;32melse\u001b[0m\u001b[0;34m:\u001b[0m\u001b[0;34m\u001b[0m\u001b[0m\n\u001b[0;32m---> 61\u001b[0;31m         \u001b[0;32mreturn\u001b[0m \u001b[0masciidammit\u001b[0m\u001b[0;34m(\u001b[0m\u001b[0municode\u001b[0m\u001b[0;34m(\u001b[0m\u001b[0ms\u001b[0m\u001b[0;34m)\u001b[0m\u001b[0;34m)\u001b[0m\u001b[0;34m\u001b[0m\u001b[0m\n\u001b[0m\u001b[1;32m     62\u001b[0m \u001b[0;34m\u001b[0m\u001b[0m\n\u001b[1;32m     63\u001b[0m \u001b[0;34m\u001b[0m\u001b[0m\n",
      "\u001b[0;32m~/anaconda3/envs/icutestenv/lib/python3.5/site-packages/fuzzywuzzy/utils.py\u001b[0m in \u001b[0;36masciidammit\u001b[0;34m(s)\u001b[0m\n\u001b[1;32m     55\u001b[0m \u001b[0;32mdef\u001b[0m \u001b[0masciidammit\u001b[0m\u001b[0;34m(\u001b[0m\u001b[0ms\u001b[0m\u001b[0;34m)\u001b[0m\u001b[0;34m:\u001b[0m\u001b[0;34m\u001b[0m\u001b[0m\n\u001b[1;32m     56\u001b[0m     \u001b[0;32mif\u001b[0m \u001b[0mtype\u001b[0m\u001b[0;34m(\u001b[0m\u001b[0ms\u001b[0m\u001b[0;34m)\u001b[0m \u001b[0;32mis\u001b[0m \u001b[0mstr\u001b[0m\u001b[0;34m:\u001b[0m\u001b[0;34m\u001b[0m\u001b[0m\n\u001b[0;32m---> 57\u001b[0;31m         \u001b[0;32mreturn\u001b[0m \u001b[0masciionly\u001b[0m\u001b[0;34m(\u001b[0m\u001b[0ms\u001b[0m\u001b[0;34m)\u001b[0m\u001b[0;34m\u001b[0m\u001b[0m\n\u001b[0m\u001b[1;32m     58\u001b[0m     \u001b[0;32melif\u001b[0m \u001b[0mtype\u001b[0m\u001b[0;34m(\u001b[0m\u001b[0ms\u001b[0m\u001b[0;34m)\u001b[0m \u001b[0;32mis\u001b[0m \u001b[0municode\u001b[0m\u001b[0;34m:\u001b[0m\u001b[0;34m\u001b[0m\u001b[0m\n\u001b[1;32m     59\u001b[0m         \u001b[0;32mreturn\u001b[0m \u001b[0masciionly\u001b[0m\u001b[0;34m(\u001b[0m\u001b[0ms\u001b[0m\u001b[0;34m.\u001b[0m\u001b[0mencode\u001b[0m\u001b[0;34m(\u001b[0m\u001b[0;34m'ascii'\u001b[0m\u001b[0;34m,\u001b[0m \u001b[0;34m'ignore'\u001b[0m\u001b[0;34m)\u001b[0m\u001b[0;34m)\u001b[0m\u001b[0;34m\u001b[0m\u001b[0m\n",
      "\u001b[0;32m~/anaconda3/envs/icutestenv/lib/python3.5/site-packages/fuzzywuzzy/utils.py\u001b[0m in \u001b[0;36masciionly\u001b[0;34m(s)\u001b[0m\n\u001b[1;32m     48\u001b[0m \u001b[0;32mdef\u001b[0m \u001b[0masciionly\u001b[0m\u001b[0;34m(\u001b[0m\u001b[0ms\u001b[0m\u001b[0;34m)\u001b[0m\u001b[0;34m:\u001b[0m\u001b[0;34m\u001b[0m\u001b[0m\n\u001b[1;32m     49\u001b[0m     \u001b[0;32mif\u001b[0m \u001b[0mPY3\u001b[0m\u001b[0;34m:\u001b[0m\u001b[0;34m\u001b[0m\u001b[0m\n\u001b[0;32m---> 50\u001b[0;31m         \u001b[0;32mreturn\u001b[0m \u001b[0ms\u001b[0m\u001b[0;34m.\u001b[0m\u001b[0mtranslate\u001b[0m\u001b[0;34m(\u001b[0m\u001b[0mtranslation_table\u001b[0m\u001b[0;34m)\u001b[0m\u001b[0;34m\u001b[0m\u001b[0m\n\u001b[0m\u001b[1;32m     51\u001b[0m     \u001b[0;32melse\u001b[0m\u001b[0;34m:\u001b[0m\u001b[0;34m\u001b[0m\u001b[0m\n\u001b[1;32m     52\u001b[0m         \u001b[0;32mreturn\u001b[0m \u001b[0ms\u001b[0m\u001b[0;34m.\u001b[0m\u001b[0mtranslate\u001b[0m\u001b[0;34m(\u001b[0m\u001b[0;32mNone\u001b[0m\u001b[0;34m,\u001b[0m \u001b[0mbad_chars\u001b[0m\u001b[0;34m)\u001b[0m\u001b[0;34m\u001b[0m\u001b[0m\n",
      "\u001b[0;31mKeyboardInterrupt\u001b[0m: "
     ]
    },
    {
     "name": "stderr",
     "output_type": "stream",
     "text": [
      "\r",
      " 31%|███       | 466424/1506660 [42:23<2:07:13, 136.28it/s]"
     ]
    }
   ],
   "source": [
    "qa_system = QuestionAnswerSystem()\n",
    "tqdm_pandas(tqdm(total=df.shape[0]))\n",
    "base_features = df.progress_apply(lambda x: qa_system.create_base_features(x), axis=1)\n",
    "for f in base_features.columns:\n",
    "    df[f] = base_features[f]"
   ]
  },
  {
   "cell_type": "code",
   "execution_count": 77,
   "metadata": {},
   "outputs": [
    {
     "name": "stdout",
     "output_type": "stream",
     "text": [
      "Train:\n",
      "Precision: 0.8120591581342435\n",
      "Recall: 0.5386898772388811\n",
      "F1-score: 0.6477118054505309\n",
      "Test:\n",
      "Precision: 0.8157081014223871\n",
      "Recall: 0.5408587663288618\n",
      "F1-score: 0.6504402958788305\n"
     ]
    }
   ],
   "source": [
    "target = 'answer_in_sentence'\n",
    "predictions = df.columns.difference([target, 'sentence_lem', 'question_lem', 'answer_lem', 'doc_number'])\n",
    "\n",
    "doc_number_dummies = pd.get_dummies(df.doc_number)\n",
    "\n",
    "sc = StandardScaler()\n",
    "X_train_sc = sc.fit_transform(df.loc[train_df_idxs][predictions])\n",
    "X_test_sc = sc.transform(df.loc[test_df_idxs][predictions])\n",
    "\n",
    "X_train = np.concatenate((X_train_sc, doc_number_dummies.loc[train_df_idxs].values), axis=1)\n",
    "X_test = np.concatenate((X_test_sc, doc_number_dummies.loc[test_df_idxs].values), axis=1)\n",
    "\n",
    "clf = LogisticRegression()\n",
    "clf.fit(X_train, df.loc[train_df_idxs][target])\n",
    "\n",
    "train_predict = clf.predict(X_train)\n",
    "test_predict = clf.predict(X_test)\n",
    "\n",
    "print('Train:')\n",
    "Utility.calculate_metric(df.loc[train_df_idxs].answer_in_sentence, train_predict)\n",
    "\n",
    "print('Test:')\n",
    "Utility.calculate_metric(df.loc[test_df_idxs].answer_in_sentence, test_predict)"
   ]
  },
  {
   "cell_type": "code",
   "execution_count": null,
   "metadata": {
    "collapsed": true
   },
   "outputs": [],
   "source": [
    "clf = LogisticRegression(penalty='l1')\n",
    "clf.fit(X_train, df.loc[train_df_idxs][target])"
   ]
  },
  {
   "cell_type": "code",
   "execution_count": null,
   "metadata": {
    "collapsed": true
   },
   "outputs": [],
   "source": [
    "1"
   ]
  },
  {
   "cell_type": "code",
   "execution_count": 103,
   "metadata": {
    "collapsed": true
   },
   "outputs": [],
   "source": [
    "LogisticRegression?"
   ]
  },
  {
   "cell_type": "code",
   "execution_count": 101,
   "metadata": {},
   "outputs": [
    {
     "data": {
      "text/plain": [
       "array(['0', 'sentence_lem_no_stop_words_len', 'sentence_lem_no_punct_len',\n",
       "       'sentence_lem_no_punct_question_lem_no_interrogative_pronouns_intersect_len',\n",
       "       '9', '8', '7', '6', '5', '4',\n",
       "       'question_lem_no_stop_words_sentence_lem_no_punct_jaccard_sim', '3',\n",
       "       'question_lem_no_stop_words_sentence_lem_no_punct_fuzz_token_set_ratio',\n",
       "       'sentence_lem_no_stop_words_question_lem_no_stop_words_intersect_len',\n",
       "       'sentence_lem_no_stop_words_question_lem_no_interrogative_pronouns_intersect_len',\n",
       "       'sentence_lem_no_stop_words_question_lem_no_punct_intersect_len',\n",
       "       'sentence_lem_no_stop_words_question_lem_no_punct_jaccard_sim',\n",
       "       'sentence_lem_no_stop_words_question_lem_no_interrogative_pronouns_jaccard_sim',\n",
       "       '2',\n",
       "       'sentence_lem_no_stop_words_question_lem_no_stop_words_fuzz_token_set_ratio',\n",
       "       'sentence_lem_no_stop_words_question_lem_no_stop_words_jaccard_sim',\n",
       "       'question_lem_no_stop_words_sentence_lem_no_punct_fuzz_token_sort_ratio',\n",
       "       'question_lem_no_punct_sentence_lem_no_punct_jaccard_sim',\n",
       "       'sentence_lem_no_punct_question_lem_no_interrogative_pronouns_jaccard_sim',\n",
       "       'question_lem_no_punct_sentence_lem_no_punct_fuzz_ratio',\n",
       "       'sentence_lem_no_stop_words_question_lem_no_stop_words_fuzz_ratio',\n",
       "       'question_lem_no_punct_sentence_lem_no_punct_fuzz_token_set_ratio',\n",
       "       'sentence_lem_no_punct_question_lem_no_interrogative_pronouns_fuzz_token_set_ratio',\n",
       "       'sentence_lem_no_stop_words_question_lem_no_punct_fuzz_token_set_ratio',\n",
       "       'sentence_lem_no_stop_words_question_lem_no_interrogative_pronouns_fuzz_token_set_ratio',\n",
       "       'question_lem_no_punct_sentence_lem_no_punct_fuzz_token_sort_ratio',\n",
       "       'sentence_lem_no_punct_question_lem_no_interrogative_pronouns_fuzz_token_sort_ratio',\n",
       "       'sentence_lem_no_stop_words_question_lem_no_stop_words_fuzz_token_sort_ratio',\n",
       "       '1',\n",
       "       'sentence_lem_no_stop_words_question_lem_no_interrogative_pronouns_fuzz_token_sort_ratio',\n",
       "       'sentence_lem_no_stop_words_question_lem_no_punct_fuzz_token_sort_ratio',\n",
       "       'sentence_lem_no_stop_words_question_lem_no_punct_fuzz_ratio',\n",
       "       'sentence_lem_no_stop_words_question_lem_no_interrogative_pronouns_fuzz_ratio',\n",
       "       'question_lem_no_stop_words_sentence_lem_no_punct_intersect_len',\n",
       "       'sentence_lem_no_punct_question_lem_no_interrogative_pronouns_fuzz_ratio',\n",
       "       'question_lem_no_punct_sentence_lem_no_punct_intersect_len',\n",
       "       'question_lem_no_punct_sentence_lem_no_punct_fuzz_partial_ratio',\n",
       "       'question_lem_no_stop_words_sentence_lem_no_punct_fuzz_ratio',\n",
       "       'sentence_lem_no_stop_words_question_lem_no_interrogative_pronouns_fuzz_partial_ratio',\n",
       "       'sentence_lem_no_punct_question_lem_no_interrogative_pronouns_fuzz_partial_ratio',\n",
       "       'question_lem_no_stop_words_sentence_lem_no_punct_fuzz_partial_ratio',\n",
       "       'sentence_lem_no_stop_words_question_lem_no_punct_fuzz_partial_ratio',\n",
       "       'sentence_lem_no_stop_words_question_lem_no_stop_words_fuzz_partial_ratio'],\n",
       "      dtype='<U87')"
      ]
     },
     "execution_count": 101,
     "metadata": {},
     "output_type": "execute_result"
    }
   ],
   "source": [
    "np.array(res)[np.argsort(np.abs(clf.coef_[0]))[::-1]]"
   ]
  },
  {
   "cell_type": "code",
   "execution_count": 100,
   "metadata": {},
   "outputs": [],
   "source": [
    "res = list(predictions) + list(doc_number_dummies.columns)"
   ]
  },
  {
   "cell_type": "code",
   "execution_count": 98,
   "metadata": {},
   "outputs": [
    {
     "data": {
      "text/plain": [
       "Index(['question_lem_no_punct_sentence_lem_no_punct_fuzz_partial_ratio',\n",
       "       'question_lem_no_punct_sentence_lem_no_punct_fuzz_ratio',\n",
       "       'question_lem_no_punct_sentence_lem_no_punct_fuzz_token_set_ratio',\n",
       "       'question_lem_no_punct_sentence_lem_no_punct_fuzz_token_sort_ratio',\n",
       "       'question_lem_no_punct_sentence_lem_no_punct_intersect_len',\n",
       "       'question_lem_no_punct_sentence_lem_no_punct_jaccard_sim',\n",
       "       'question_lem_no_stop_words_sentence_lem_no_punct_fuzz_partial_ratio',\n",
       "       'question_lem_no_stop_words_sentence_lem_no_punct_fuzz_ratio',\n",
       "       'question_lem_no_stop_words_sentence_lem_no_punct_fuzz_token_set_ratio',\n",
       "       'question_lem_no_stop_words_sentence_lem_no_punct_fuzz_token_sort_ratio',\n",
       "       'question_lem_no_stop_words_sentence_lem_no_punct_intersect_len',\n",
       "       'question_lem_no_stop_words_sentence_lem_no_punct_jaccard_sim',\n",
       "       'sentence_lem_no_punct_len',\n",
       "       'sentence_lem_no_punct_question_lem_no_interrogative_pronouns_fuzz_partial_ratio',\n",
       "       'sentence_lem_no_punct_question_lem_no_interrogative_pronouns_fuzz_ratio',\n",
       "       'sentence_lem_no_punct_question_lem_no_interrogative_pronouns_fuzz_token_set_ratio',\n",
       "       'sentence_lem_no_punct_question_lem_no_interrogative_pronouns_fuzz_token_sort_ratio',\n",
       "       'sentence_lem_no_punct_question_lem_no_interrogative_pronouns_intersect_len',\n",
       "       'sentence_lem_no_punct_question_lem_no_interrogative_pronouns_jaccard_sim',\n",
       "       'sentence_lem_no_stop_words_len',\n",
       "       'sentence_lem_no_stop_words_question_lem_no_interrogative_pronouns_fuzz_partial_ratio',\n",
       "       'sentence_lem_no_stop_words_question_lem_no_interrogative_pronouns_fuzz_ratio',\n",
       "       'sentence_lem_no_stop_words_question_lem_no_interrogative_pronouns_fuzz_token_set_ratio',\n",
       "       'sentence_lem_no_stop_words_question_lem_no_interrogative_pronouns_fuzz_token_sort_ratio',\n",
       "       'sentence_lem_no_stop_words_question_lem_no_interrogative_pronouns_intersect_len',\n",
       "       'sentence_lem_no_stop_words_question_lem_no_interrogative_pronouns_jaccard_sim',\n",
       "       'sentence_lem_no_stop_words_question_lem_no_punct_fuzz_partial_ratio',\n",
       "       'sentence_lem_no_stop_words_question_lem_no_punct_fuzz_ratio',\n",
       "       'sentence_lem_no_stop_words_question_lem_no_punct_fuzz_token_set_ratio',\n",
       "       'sentence_lem_no_stop_words_question_lem_no_punct_fuzz_token_sort_ratio',\n",
       "       'sentence_lem_no_stop_words_question_lem_no_punct_intersect_len',\n",
       "       'sentence_lem_no_stop_words_question_lem_no_punct_jaccard_sim',\n",
       "       'sentence_lem_no_stop_words_question_lem_no_stop_words_fuzz_partial_ratio',\n",
       "       'sentence_lem_no_stop_words_question_lem_no_stop_words_fuzz_ratio',\n",
       "       'sentence_lem_no_stop_words_question_lem_no_stop_words_fuzz_token_set_ratio',\n",
       "       'sentence_lem_no_stop_words_question_lem_no_stop_words_fuzz_token_sort_ratio',\n",
       "       'sentence_lem_no_stop_words_question_lem_no_stop_words_intersect_len',\n",
       "       'sentence_lem_no_stop_words_question_lem_no_stop_words_jaccard_sim'],\n",
       "      dtype='object')"
      ]
     },
     "execution_count": 98,
     "metadata": {},
     "output_type": "execute_result"
    }
   ],
   "source": [
    "predictions"
   ]
  },
  {
   "cell_type": "code",
   "execution_count": 97,
   "metadata": {},
   "outputs": [
    {
     "ename": "AttributeError",
     "evalue": "'list' object has no attribute 'shape'",
     "output_type": "error",
     "traceback": [
      "\u001b[0;31m---------------------------------------------------------------------------\u001b[0m",
      "\u001b[0;31mAttributeError\u001b[0m                            Traceback (most recent call last)",
      "\u001b[0;32m<ipython-input-97-a4ef9c5917e7>\u001b[0m in \u001b[0;36m<module>\u001b[0;34m()\u001b[0m\n\u001b[0;32m----> 1\u001b[0;31m \u001b[0mlist\u001b[0m\u001b[0;34m(\u001b[0m\u001b[0mdoc_number_dummies\u001b[0m\u001b[0;34m.\u001b[0m\u001b[0mcolumns\u001b[0m\u001b[0;34m)\u001b[0m\u001b[0;34m.\u001b[0m\u001b[0mshape\u001b[0m\u001b[0;34m\u001b[0m\u001b[0m\n\u001b[0m",
      "\u001b[0;31mAttributeError\u001b[0m: 'list' object has no attribute 'shape'"
     ]
    }
   ],
   "source": [
    "list(doc_number_dummies.columns)."
   ]
  },
  {
   "cell_type": "code",
   "execution_count": null,
   "metadata": {
    "collapsed": true
   },
   "outputs": [],
   "source": []
  }
 ],
 "metadata": {
  "kernelspec": {
   "display_name": "Python 3",
   "language": "python",
   "name": "python3"
  },
  "language_info": {
   "codemirror_mode": {
    "name": "ipython",
    "version": 3
   },
   "file_extension": ".py",
   "mimetype": "text/x-python",
   "name": "python",
   "nbconvert_exporter": "python",
   "pygments_lexer": "ipython3",
   "version": "3.5.2"
  }
 },
 "nbformat": 4,
 "nbformat_minor": 2
}
